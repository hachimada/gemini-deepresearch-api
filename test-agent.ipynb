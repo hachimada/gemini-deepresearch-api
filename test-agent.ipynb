{
 "cells": [
  {
   "cell_type": "code",
   "metadata": {},
   "outputs": [],
   "source": "import httpx\nimport json\nfrom IPython.display import Markdown\n\n# Test API endpoint\napi_url = \"http://localhost:8000/api/research\"\n\n# First research query\npayload1 = {\n    \"query\": \"Who won the euro 2024\",\n    \"max_research_loops\": 3,\n    \"initial_search_query_count\": 3\n}\n\nwith httpx.Client() as client:\n    response1 = client.post(api_url, json=payload1)\n    result1 = response1.json()\n\nprint(f\"Status Code: {response1.status_code}\")\nprint(f\"Research Loops: {result1['research_loop_count']}\")\nprint(f\"Sources: {len(result1['sources'])}\")\nprint(f\"Queries Executed: {result1['queries_executed']}\")"
  },
  {
   "cell_type": "code",
   "metadata": {},
   "outputs": [],
   "source": "Markdown(result1['answer'])"
  },
  {
   "cell_type": "code",
   "metadata": {},
   "outputs": [],
   "source": "# Second research query\npayload2 = {\n    \"query\": \"Who has the most titles? List the top 5\",\n    \"max_research_loops\": 2,\n    \"initial_search_query_count\": 3\n}\n\nwith httpx.Client() as client:\n    response2 = client.post(api_url, json=payload2)\n    result2 = response2.json()\n\nprint(f\"Status Code: {response2.status_code}\")\nprint(f\"Research Loops: {result2['research_loop_count']}\")\nprint(f\"Sources: {len(result2['sources'])}\")\nprint(f\"Queries Executed: {result2['queries_executed']}\")"
  },
  {
   "cell_type": "code",
   "metadata": {},
   "outputs": [],
   "source": "Markdown(result2['answer'])"
  },
  {
   "cell_type": "code",
   "metadata": {},
   "outputs": [],
   "source": "# Display sources for reference\nprint(\"Sources from first query:\")\nfor i, source in enumerate(result1['sources'], 1):\n    print(f\"{i}. {source['label']}: {source['value']}\")\n    \nprint(\"\\nSources from second query:\")\nfor i, source in enumerate(result2['sources'], 1):\n    print(f\"{i}. {source['label']}: {source['value']}\")"
  },
  {
   "cell_type": "code",
   "metadata": {},
   "outputs": [],
   "source": ""
  }
 ],
 "metadata": {
  "language_info": {
   "name": "python"
  }
 },
 "nbformat": 4,
 "nbformat_minor": 2
}